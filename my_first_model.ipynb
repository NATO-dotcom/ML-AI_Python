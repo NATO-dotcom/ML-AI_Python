{
  "nbformat": 4,
  "nbformat_minor": 0,
  "metadata": {
    "colab": {
      "provenance": [],
      "authorship_tag": "ABX9TyM3w84gJYmIxJaqFnzcP/4J",
      "include_colab_link": true
    },
    "kernelspec": {
      "name": "python3",
      "display_name": "Python 3"
    },
    "language_info": {
      "name": "python"
    }
  },
  "cells": [
    {
      "cell_type": "markdown",
      "metadata": {
        "id": "view-in-github",
        "colab_type": "text"
      },
      "source": [
        "<a href=\"https://colab.research.google.com/github/NATO-dotcom/ML-AI_Python/blob/main/my_first_model.ipynb\" target=\"_parent\"><img src=\"https://colab.research.google.com/assets/colab-badge.svg\" alt=\"Open In Colab\"/></a>"
      ]
    },
    {
      "cell_type": "code",
      "execution_count": 14,
      "metadata": {
        "colab": {
          "base_uri": "https://localhost:8080/"
        },
        "id": "TxCEaJ1YcnO8",
        "outputId": "c0505fe0-6377-4fdc-c787-df727bbd6d17"
      },
      "outputs": [
        {
          "output_type": "execute_result",
          "data": {
            "text/plain": [
              "1.0"
            ]
          },
          "metadata": {},
          "execution_count": 14
        }
      ],
      "source": [
        "import pandas as pd\n",
        "import numpy as np\n",
        "data = pd.read_csv('/content/music.csv')\n",
        "x=data.drop(columns=['genre'])\n",
        "y=data['genre']\n",
        "from sklearn.tree import DecisionTreeClassifier\n",
        "model=DecisionTreeClassifier()\n",
        "#model.fit(x,y)#Takes the input data and output data\n",
        "#prediction=model.predict([[21,1],[22,0]])#predicting\n",
        "#prediction\n",
        "#measuring accuracy\n",
        "from sklearn.model_selection import train_test_split\n",
        "from sklearn.metrics import accuracy_score\n",
        "x_train,x_test,y_train,y_test=train_test_split(x,y,test_size=0.2)\n",
        "model.fit(x_train,y_train)\n",
        "prediction=model.predict(x_test)\n",
        "score=accuracy_score(y_test,prediction)\n",
        "score"
      ]
    },
    {
      "cell_type": "code",
      "source": [],
      "metadata": {
        "id": "VWDuXtEJdG1R"
      },
      "execution_count": 6,
      "outputs": []
    }
  ]
}