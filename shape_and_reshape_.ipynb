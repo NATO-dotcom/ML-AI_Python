{
  "nbformat": 4,
  "nbformat_minor": 0,
  "metadata": {
    "colab": {
      "provenance": [],
      "authorship_tag": "ABX9TyM4wb3n0EDH1Miuco6AR0yT",
      "include_colab_link": true
    },
    "kernelspec": {
      "name": "python3",
      "display_name": "Python 3"
    },
    "language_info": {
      "name": "python"
    }
  },
  "cells": [
    {
      "cell_type": "markdown",
      "metadata": {
        "id": "view-in-github",
        "colab_type": "text"
      },
      "source": [
        "<a href=\"https://colab.research.google.com/github/NATO-dotcom/ML-AI_Python/blob/main/shape_and_reshape_.ipynb\" target=\"_parent\"><img src=\"https://colab.research.google.com/assets/colab-badge.svg\" alt=\"Open In Colab\"/></a>"
      ]
    },
    {
      "cell_type": "code",
      "execution_count": 1,
      "metadata": {
        "id": "4pt3haNLGAUE"
      },
      "outputs": [],
      "source": [
        "import numpy as np"
      ]
    },
    {
      "cell_type": "code",
      "source": [
        "np1=np.array([1,2,3,4,5,6,7,8,9])#1D array\n",
        "print(np.shape(np1))"
      ],
      "metadata": {
        "colab": {
          "base_uri": "https://localhost:8080/"
        },
        "id": "Vowym3OGGWm8",
        "outputId": "e838dfce-98c4-4483-ac78-e0d4e781b348"
      },
      "execution_count": 2,
      "outputs": [
        {
          "output_type": "stream",
          "name": "stdout",
          "text": [
            "(9,)\n"
          ]
        }
      ]
    },
    {
      "cell_type": "code",
      "source": [
        "np2=np.array([[1,2,3,4,5],[6,7,8,9,10]])#1D array\n",
        "print(np.shape(np2))#returns rows and columns"
      ],
      "metadata": {
        "colab": {
          "base_uri": "https://localhost:8080/"
        },
        "id": "iTr0c5QIGkJ6",
        "outputId": "901f1d02-814a-4bd1-cb83-94962ba46583"
      },
      "execution_count": 4,
      "outputs": [
        {
          "output_type": "stream",
          "name": "stdout",
          "text": [
            "(2, 5)\n"
          ]
        }
      ]
    },
    {
      "cell_type": "code",
      "source": [
        "np3=np1.reshape(3,3)#creating a 2D array BY RESHAPING\n",
        "print(np3)\n",
        "print(np.shape(np3))#to confirm our shape"
      ],
      "metadata": {
        "colab": {
          "base_uri": "https://localhost:8080/"
        },
        "id": "36pnEw10HMoa",
        "outputId": "96254c61-3f74-4acf-8e4e-cbb30014aa56"
      },
      "execution_count": 8,
      "outputs": [
        {
          "output_type": "stream",
          "name": "stdout",
          "text": [
            "[[1 2 3]\n",
            " [4 5 6]\n",
            " [7 8 9]]\n",
            "(3, 3)\n"
          ]
        }
      ]
    },
    {
      "cell_type": "code",
      "source": [
        "np4=np1.reshape(3,3,1)#creating a 3D array BY RESHAPING\n",
        "print(np4)#3 blocks of 3 by 1\n",
        "print(np.shape(np4))#to confirm our shape"
      ],
      "metadata": {
        "colab": {
          "base_uri": "https://localhost:8080/"
        },
        "id": "jCW8AsKoH_Qf",
        "outputId": "b8544cf2-f187-4d6f-b248-7c8b39bc96e2"
      },
      "execution_count": 10,
      "outputs": [
        {
          "output_type": "stream",
          "name": "stdout",
          "text": [
            "[[[1]\n",
            "  [2]\n",
            "  [3]]\n",
            "\n",
            " [[4]\n",
            "  [5]\n",
            "  [6]]\n",
            "\n",
            " [[7]\n",
            "  [8]\n",
            "  [9]]]\n",
            "(3, 3, 1)\n"
          ]
        }
      ]
    },
    {
      "cell_type": "code",
      "source": [
        "np5=np4.reshape(-1)#reshaping our array back to 1D\n",
        "print(np5)\n",
        "print(np.shape(np5))"
      ],
      "metadata": {
        "colab": {
          "base_uri": "https://localhost:8080/"
        },
        "id": "B5LzIbwSILtf",
        "outputId": "71a28fcb-9328-47ff-b5d3-66989a743b14"
      },
      "execution_count": 13,
      "outputs": [
        {
          "output_type": "stream",
          "name": "stdout",
          "text": [
            "[1 2 3 4 5 6 7 8 9]\n",
            "(9,)\n"
          ]
        }
      ]
    }
  ]
}