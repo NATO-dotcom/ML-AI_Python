{
  "nbformat": 4,
  "nbformat_minor": 0,
  "metadata": {
    "colab": {
      "provenance": [],
      "authorship_tag": "ABX9TyOXLexbXfhAY8b2EuTKMGk1",
      "include_colab_link": true
    },
    "kernelspec": {
      "name": "python3",
      "display_name": "Python 3"
    },
    "language_info": {
      "name": "python"
    }
  },
  "cells": [
    {
      "cell_type": "markdown",
      "metadata": {
        "id": "view-in-github",
        "colab_type": "text"
      },
      "source": [
        "<a href=\"https://colab.research.google.com/github/NATO-dotcom/ML-AI_Python/blob/main/search.ipynb\" target=\"_parent\"><img src=\"https://colab.research.google.com/assets/colab-badge.svg\" alt=\"Open In Colab\"/></a>"
      ]
    },
    {
      "cell_type": "code",
      "execution_count": 1,
      "metadata": {
        "id": "B3QkdOAOKc_2"
      },
      "outputs": [],
      "source": [
        "import numpy as np"
      ]
    },
    {
      "cell_type": "code",
      "source": [
        "np1=np.array([1,2,3,4,5,6,7,8,9])#we use the fn where\n",
        "x=np.where(np1==5)#prints the index of what you are searching\n",
        "print(np1)\n",
        "print(x)#prints a tuple"
      ],
      "metadata": {
        "colab": {
          "base_uri": "https://localhost:8080/"
        },
        "id": "U74vq6cvRVY1",
        "outputId": "5632dfe7-1cd4-462a-9721-231282e6aa45"
      },
      "execution_count": 2,
      "outputs": [
        {
          "output_type": "stream",
          "name": "stdout",
          "text": [
            "[1 2 3 4 5 6 7 8 9]\n",
            "(array([4]),)\n"
          ]
        }
      ]
    },
    {
      "cell_type": "code",
      "source": [
        "np2=np.array([1,2,3,4,5,6,7,8,9])#prints even numbers\n",
        "x=np.where(np2%2==0)#prints the index of what you are searching\n",
        "print(np2)\n",
        "print(x[0])#do away with the tuple"
      ],
      "metadata": {
        "colab": {
          "base_uri": "https://localhost:8080/"
        },
        "id": "7n74XsZnSQPd",
        "outputId": "7c3827df-bbd5-422d-ea30-6123982bdc58"
      },
      "execution_count": 3,
      "outputs": [
        {
          "output_type": "stream",
          "name": "stdout",
          "text": [
            "[1 2 3 4 5 6 7 8 9]\n",
            "[1 3 5 7]\n"
          ]
        }
      ]
    },
    {
      "cell_type": "code",
      "source": [
        "np3=np.array([1,2,3,4,5,6,7,8,9,3])\n",
        "y=np.where(np3==3)\n",
        "print(np3)\n",
        "print(y[0])"
      ],
      "metadata": {
        "colab": {
          "base_uri": "https://localhost:8080/"
        },
        "id": "DFZrWKZFTBTV",
        "outputId": "bd213287-96ed-42dd-9da3-00cf8c0ecaec"
      },
      "execution_count": 5,
      "outputs": [
        {
          "output_type": "stream",
          "name": "stdout",
          "text": [
            "[1 2 3 4 5 6 7 8 9 3]\n",
            "[2 9]\n"
          ]
        }
      ]
    },
    {
      "cell_type": "code",
      "source": [
        "np3=np.array([1,2,3,4,5,6,7,8,9,3])\n",
        "y=np.where(np3==3)\n",
        "print(np3)\n",
        "print(y[0])\n",
        "print(np3[y[0]])#when you want the real thing you searching"
      ],
      "metadata": {
        "colab": {
          "base_uri": "https://localhost:8080/"
        },
        "id": "b2ABpTfcUa6J",
        "outputId": "a7cb11a7-418a-48e7-8b03-79f79eb19572"
      },
      "execution_count": 7,
      "outputs": [
        {
          "output_type": "stream",
          "name": "stdout",
          "text": [
            "[1 2 3 4 5 6 7 8 9 3]\n",
            "[2 9]\n",
            "[3 3]\n"
          ]
        }
      ]
    }
  ]
}