{
  "nbformat": 4,
  "nbformat_minor": 0,
  "metadata": {
    "colab": {
      "provenance": [],
      "authorship_tag": "ABX9TyOszWxa4D7v62Owa2/nbBt5",
      "include_colab_link": true
    },
    "kernelspec": {
      "name": "python3",
      "display_name": "Python 3"
    },
    "language_info": {
      "name": "python"
    }
  },
  "cells": [
    {
      "cell_type": "markdown",
      "metadata": {
        "id": "view-in-github",
        "colab_type": "text"
      },
      "source": [
        "<a href=\"https://colab.research.google.com/github/NATO-dotcom/ML-AI_Python/blob/main/numpy.ipynb\" target=\"_parent\"><img src=\"https://colab.research.google.com/assets/colab-badge.svg\" alt=\"Open In Colab\"/></a>"
      ]
    },
    {
      "cell_type": "code",
      "execution_count": 1,
      "metadata": {
        "id": "JtbzDTx2URMd"
      },
      "outputs": [],
      "source": [
        "import numpy as np"
      ]
    },
    {
      "cell_type": "code",
      "source": [
        "np1=np.array([1,2,3,4,5,6,7,8,9])#1D\n",
        "print(np1)"
      ],
      "metadata": {
        "colab": {
          "base_uri": "https://localhost:8080/"
        },
        "id": "JWD0hM6JUuE-",
        "outputId": "288114e9-f613-4bd8-ddf7-67729812f320"
      },
      "execution_count": 3,
      "outputs": [
        {
          "output_type": "stream",
          "name": "stdout",
          "text": [
            "[1 2 3 4 5 6 7 8 9]\n"
          ]
        }
      ]
    },
    {
      "cell_type": "code",
      "source": [
        "np2=np.array([[1,2,3],[4,5,6],[7,8,9]])#2D\n",
        "print(np2)"
      ],
      "metadata": {
        "colab": {
          "base_uri": "https://localhost:8080/"
        },
        "id": "i21zaHU9VKLL",
        "outputId": "1e7623da-065e-408e-99af-ca70c434b541"
      },
      "execution_count": 4,
      "outputs": [
        {
          "output_type": "stream",
          "name": "stdout",
          "text": [
            "[[1 2 3]\n",
            " [4 5 6]\n",
            " [7 8 9]]\n"
          ]
        }
      ]
    },
    {
      "cell_type": "code",
      "source": [
        "np3=np.array([[[1,2,3],[4,5,6]],[[7,8,9],[10,11,12]]])#3D\n",
        "print(np3)"
      ],
      "metadata": {
        "colab": {
          "base_uri": "https://localhost:8080/"
        },
        "id": "7j_wHE18VezS",
        "outputId": "bf5a64a3-1aec-4361-9ef7-f503ae2e1b9c"
      },
      "execution_count": 7,
      "outputs": [
        {
          "output_type": "stream",
          "name": "stdout",
          "text": [
            "[[[ 1  2  3]\n",
            "  [ 4  5  6]]\n",
            "\n",
            " [[ 7  8  9]\n",
            "  [10 11 12]]]\n"
          ]
        }
      ]
    },
    {
      "cell_type": "code",
      "source": [
        "np2.shape"
      ],
      "metadata": {
        "colab": {
          "base_uri": "https://localhost:8080/"
        },
        "id": "UTEvO4akWLXq",
        "outputId": "c9df2281-dfa1-494c-aa08-7017515302f8"
      },
      "execution_count": 8,
      "outputs": [
        {
          "output_type": "execute_result",
          "data": {
            "text/plain": [
              "(3, 3)"
            ]
          },
          "metadata": {},
          "execution_count": 8
        }
      ]
    },
    {
      "cell_type": "code",
      "source": [
        "np2.size#number elements"
      ],
      "metadata": {
        "colab": {
          "base_uri": "https://localhost:8080/"
        },
        "id": "cEjwlo8bWYRH",
        "outputId": "f25f9919-7d02-4956-97de-77482963c549"
      },
      "execution_count": 10,
      "outputs": [
        {
          "output_type": "execute_result",
          "data": {
            "text/plain": [
              "9"
            ]
          },
          "metadata": {},
          "execution_count": 10
        }
      ]
    },
    {
      "cell_type": "code",
      "source": [
        "np4=np1.reshape(3,3)#reshaping an array\n",
        "print(np4)"
      ],
      "metadata": {
        "colab": {
          "base_uri": "https://localhost:8080/"
        },
        "id": "SqPJa_CWWnlU",
        "outputId": "ca30e05d-7fa3-42eb-b9ef-f353bdec87d2"
      },
      "execution_count": 14,
      "outputs": [
        {
          "output_type": "stream",
          "name": "stdout",
          "text": [
            "[[1 2 3]\n",
            " [4 5 6]\n",
            " [7 8 9]]\n"
          ]
        }
      ]
    },
    {
      "cell_type": "code",
      "source": [
        "np5=np.ones(10)#array of ones\n",
        "print(np5)"
      ],
      "metadata": {
        "colab": {
          "base_uri": "https://localhost:8080/"
        },
        "id": "Tuc2p9E0Xf9p",
        "outputId": "77d6c156-3a64-4e6d-c4fd-fc3cc2c2ec29"
      },
      "execution_count": 15,
      "outputs": [
        {
          "output_type": "stream",
          "name": "stdout",
          "text": [
            "[1. 1. 1. 1. 1. 1. 1. 1. 1. 1.]\n"
          ]
        }
      ]
    },
    {
      "cell_type": "code",
      "source": [
        "np6=np.zeros(5)#array of zeros\n",
        "print(np6)"
      ],
      "metadata": {
        "colab": {
          "base_uri": "https://localhost:8080/"
        },
        "id": "FQa0P3uxYK2Y",
        "outputId": "ee975807-9c61-4768-ef42-9d9392946006"
      },
      "execution_count": 16,
      "outputs": [
        {
          "output_type": "stream",
          "name": "stdout",
          "text": [
            "[0. 0. 0. 0. 0.]\n"
          ]
        }
      ]
    },
    {
      "cell_type": "code",
      "source": [
        "np7=np.full(4,3)\n",
        "print(np7)"
      ],
      "metadata": {
        "colab": {
          "base_uri": "https://localhost:8080/"
        },
        "id": "v4zJQLnQYULG",
        "outputId": "2a4e3b76-b75e-4c33-d33d-e9bd0b331137"
      },
      "execution_count": 19,
      "outputs": [
        {
          "output_type": "stream",
          "name": "stdout",
          "text": [
            "[3 3 3 3]\n"
          ]
        }
      ]
    },
    {
      "cell_type": "code",
      "source": [
        "a=np.arange(10)\n",
        "a"
      ],
      "metadata": {
        "colab": {
          "base_uri": "https://localhost:8080/"
        },
        "id": "mkl5rATuYz6U",
        "outputId": "da758c9e-4c56-44a4-8add-d28339ef155d"
      },
      "execution_count": 20,
      "outputs": [
        {
          "output_type": "execute_result",
          "data": {
            "text/plain": [
              "array([0, 1, 2, 3, 4, 5, 6, 7, 8, 9])"
            ]
          },
          "metadata": {},
          "execution_count": 20
        }
      ]
    },
    {
      "cell_type": "code",
      "source": [
        "b=np.arange(1,10,2)\n",
        "b"
      ],
      "metadata": {
        "colab": {
          "base_uri": "https://localhost:8080/"
        },
        "id": "o1Su1vYWZQRa",
        "outputId": "eab3d94c-407b-4b3c-a67d-48f27cf2c9f3"
      },
      "execution_count": 21,
      "outputs": [
        {
          "output_type": "execute_result",
          "data": {
            "text/plain": [
              "array([1, 3, 5, 7, 9])"
            ]
          },
          "metadata": {},
          "execution_count": 21
        }
      ]
    },
    {
      "cell_type": "code",
      "source": [
        "c=np.zeros((2,3))\n",
        "c"
      ],
      "metadata": {
        "colab": {
          "base_uri": "https://localhost:8080/"
        },
        "id": "WiYZ2yZCZkpL",
        "outputId": "185883b8-7d40-48e0-8e14-25d257a14aaf"
      },
      "execution_count": 24,
      "outputs": [
        {
          "output_type": "execute_result",
          "data": {
            "text/plain": [
              "array([[0., 0., 0.],\n",
              "       [0., 0., 0.]])"
            ]
          },
          "metadata": {},
          "execution_count": 24
        }
      ]
    },
    {
      "cell_type": "code",
      "source": [
        "d=np.full((2,3),4)\n",
        "d"
      ],
      "metadata": {
        "colab": {
          "base_uri": "https://localhost:8080/"
        },
        "id": "kq3DiJLKZ5Xl",
        "outputId": "48dba993-8a57-4fde-feec-6936ff46a755"
      },
      "execution_count": 25,
      "outputs": [
        {
          "output_type": "execute_result",
          "data": {
            "text/plain": [
              "array([[4, 4, 4],\n",
              "       [4, 4, 4]])"
            ]
          },
          "metadata": {},
          "execution_count": 25
        }
      ]
    },
    {
      "cell_type": "code",
      "source": [
        "np8=np.array([1,2,3,4,5,6,7,8,9,10])\n",
        "print(np.sqrt(np8))\n",
        "print(np.min(np8))\n",
        "print(np.exp(np8))\n",
        "print(np.cos(np8))"
      ],
      "metadata": {
        "colab": {
          "base_uri": "https://localhost:8080/"
        },
        "id": "4k2y3UfzaRKn",
        "outputId": "302a8875-1188-489d-c228-05e1cd84d69a"
      },
      "execution_count": 31,
      "outputs": [
        {
          "output_type": "stream",
          "name": "stdout",
          "text": [
            "[1.         1.41421356 1.73205081 2.         2.23606798 2.44948974\n",
            " 2.64575131 2.82842712 3.         3.16227766]\n",
            "1\n",
            "[2.71828183e+00 7.38905610e+00 2.00855369e+01 5.45981500e+01\n",
            " 1.48413159e+02 4.03428793e+02 1.09663316e+03 2.98095799e+03\n",
            " 8.10308393e+03 2.20264658e+04]\n",
            "[ 0.54030231 -0.41614684 -0.9899925  -0.65364362  0.28366219  0.96017029\n",
            "  0.75390225 -0.14550003 -0.91113026 -0.83907153]\n"
          ]
        }
      ]
    },
    {
      "cell_type": "code",
      "source": [
        "np9=np.array([1,2,3,4,5,6,7,8,9,10])\n",
        "print(np9[2::2])"
      ],
      "metadata": {
        "colab": {
          "base_uri": "https://localhost:8080/"
        },
        "id": "AzuL2av4b44Y",
        "outputId": "c787bc52-bee4-428d-b368-24eb63c467f3"
      },
      "execution_count": 36,
      "outputs": [
        {
          "output_type": "stream",
          "name": "stdout",
          "text": [
            "[3 5 7 9]\n"
          ]
        }
      ]
    },
    {
      "cell_type": "code",
      "source": [
        "np10=np.random.randint(10,20,size=(5,5))\n",
        "print(np10)"
      ],
      "metadata": {
        "colab": {
          "base_uri": "https://localhost:8080/"
        },
        "id": "_7uby1ylc-d7",
        "outputId": "49cd3aed-f46f-4ccc-b55f-099e79d3c102"
      },
      "execution_count": 49,
      "outputs": [
        {
          "output_type": "stream",
          "name": "stdout",
          "text": [
            "[[15 10 12 13 14]\n",
            " [18 12 18 12 18]\n",
            " [16 13 10 16 11]\n",
            " [13 10 13 15 11]\n",
            " [16 17 16 11 12]]\n"
          ]
        }
      ]
    },
    {
      "cell_type": "code",
      "source": [
        "np11=np.random.rand(2,3,5)\n",
        "np11"
      ],
      "metadata": {
        "colab": {
          "base_uri": "https://localhost:8080/"
        },
        "id": "V8xZ_be9eU_x",
        "outputId": "67f99079-13d8-4c9e-fa34-36a80dacf088"
      },
      "execution_count": 52,
      "outputs": [
        {
          "output_type": "execute_result",
          "data": {
            "text/plain": [
              "array([[[0.72709936, 0.67100517, 0.77252034, 0.24457391, 0.6879674 ],\n",
              "        [0.39123398, 0.65411611, 0.33138821, 0.6093031 , 0.5467424 ],\n",
              "        [0.33242503, 0.17390094, 0.98159891, 0.52544505, 0.5376485 ]],\n",
              "\n",
              "       [[0.83330777, 0.16879164, 0.74672774, 0.47190567, 0.20766205],\n",
              "        [0.05934743, 0.1492658 , 0.78390584, 0.07866002, 0.25726869],\n",
              "        [0.89378324, 0.44206111, 0.24524005, 0.60041424, 0.18390226]]])"
            ]
          },
          "metadata": {},
          "execution_count": 52
        }
      ]
    },
    {
      "cell_type": "code",
      "source": [],
      "metadata": {
        "id": "ovaD-yMie9XS"
      },
      "execution_count": null,
      "outputs": []
    }
  ]
}