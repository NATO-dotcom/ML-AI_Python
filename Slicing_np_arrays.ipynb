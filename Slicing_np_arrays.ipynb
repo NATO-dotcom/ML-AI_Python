{
  "nbformat": 4,
  "nbformat_minor": 0,
  "metadata": {
    "colab": {
      "provenance": [],
      "authorship_tag": "ABX9TyPBN/1Ml5jUFgCBQM3VwKzB",
      "include_colab_link": true
    },
    "kernelspec": {
      "name": "python3",
      "display_name": "Python 3"
    },
    "language_info": {
      "name": "python"
    }
  },
  "cells": [
    {
      "cell_type": "markdown",
      "metadata": {
        "id": "view-in-github",
        "colab_type": "text"
      },
      "source": [
        "<a href=\"https://colab.research.google.com/github/NATO-dotcom/ML-AI_Python/blob/main/Slicing_np_arrays.ipynb\" target=\"_parent\"><img src=\"https://colab.research.google.com/assets/colab-badge.svg\" alt=\"Open In Colab\"/></a>"
      ]
    },
    {
      "cell_type": "code",
      "execution_count": 1,
      "metadata": {
        "id": "YYZeoQNDM_A4"
      },
      "outputs": [],
      "source": [
        "import numpy as np"
      ]
    },
    {
      "cell_type": "code",
      "source": [
        "#slicing a 1D array\n",
        "np1=np.array([1,2,3,4,5,6,7,8,9])#in slicing np the last index is always excluded\n",
        "#return 2,3,4,5\n",
        "print(np1[1:5])\n",
        "#return 3,4,5,6,7:like elements in index 2 to 7\n",
        "print (np1[2:7])\n",
        "#return from sth to the end of the array\n",
        "print(np1[2:])\n",
        "#return negative slices:like counting from backwards\n",
        "print(np1[-3:-1])\n",
        "#steps\n",
        "print(np1[1:5:2])#return 2-5 in steps of 2\n",
        "print(np1[::2])#return the entire array in steps of 2\n",
        "print(np1[::3])#return the entire array in steps of 3\n",
        "print(np1[1::2])#return from array index 1 in steps of 2\n",
        "print(np1[::-1])#return reversed array"
      ],
      "metadata": {
        "colab": {
          "base_uri": "https://localhost:8080/"
        },
        "id": "gbOpmfy9OC3I",
        "outputId": "0c9f3db6-39e7-4351-e531-ab7b8c0758bb"
      },
      "execution_count": 19,
      "outputs": [
        {
          "output_type": "stream",
          "name": "stdout",
          "text": [
            "[2 3 4 5]\n",
            "[3 4 5 6 7]\n",
            "[3 4 5 6 7 8 9]\n",
            "[7 8]\n",
            "[2 4]\n",
            "[1 3 5 7 9]\n",
            "[1 4 7]\n",
            "[2 4 6 8]\n",
            "[9 8 7 6 5 4 3 2 1]\n"
          ]
        }
      ]
    },
    {
      "cell_type": "code",
      "source": [
        "#slicing a 2D array\n",
        "np2=np.array([[1,2,3,4,5],[6,7,8,9,10]])\n",
        "#pull out a single item\n",
        "print(np2[1,2])#from the 1st index (row 2),the second index element\n",
        "#slicing\n",
        "print(np2[1,1:4])#slice in array 2 only(index 1)\n",
        "print(np2[0,2:5])#we want to slice array 1(index 0)\n",
        "print(np2[0:1,1:3])#we want to slice in array 1 only\n",
        "print(np2[0:2,2])#we want elements index two in both arrays\n",
        "print(np2[0:2,1:4])#in both arrays we want elements within from index 1 to 4(excluded)\n"
      ],
      "metadata": {
        "colab": {
          "base_uri": "https://localhost:8080/"
        },
        "id": "-WdduHYCSRl9",
        "outputId": "f8034819-859f-44b9-b170-be5312c73ee6"
      },
      "execution_count": 18,
      "outputs": [
        {
          "output_type": "stream",
          "name": "stdout",
          "text": [
            "8\n",
            "[7 8 9]\n",
            "[3 4 5]\n",
            "[[2 3]]\n",
            "[3 8]\n",
            "[[2 3 4]\n",
            " [7 8 9]]\n"
          ]
        }
      ]
    },
    {
      "cell_type": "code",
      "source": [
        "#slicing 3D array(depth*rows*columns)\n",
        "#a stack of 2D matrices\n",
        "np3=np.array([[[1,2,3],[4,5,6]],[[7,8,9],[10,11,12]]])\n",
        "print(np3[0,1,2])\n"
      ],
      "metadata": {
        "colab": {
          "base_uri": "https://localhost:8080/"
        },
        "id": "PgvV_HQwZLGv",
        "outputId": "ce1f8772-40d0-412f-9598-7e183f6d8213"
      },
      "execution_count": 26,
      "outputs": [
        {
          "output_type": "stream",
          "name": "stdout",
          "text": [
            "6\n"
          ]
        }
      ]
    }
  ]
}