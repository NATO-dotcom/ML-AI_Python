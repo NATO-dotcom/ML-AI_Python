{
  "nbformat": 4,
  "nbformat_minor": 0,
  "metadata": {
    "colab": {
      "provenance": [],
      "authorship_tag": "ABX9TyPle7kvQpIBfdYwI4cF88pa",
      "include_colab_link": true
    },
    "kernelspec": {
      "name": "python3",
      "display_name": "Python 3"
    },
    "language_info": {
      "name": "python"
    }
  },
  "cells": [
    {
      "cell_type": "markdown",
      "metadata": {
        "id": "view-in-github",
        "colab_type": "text"
      },
      "source": [
        "<a href=\"https://colab.research.google.com/github/NATO-dotcom/ML-AI_Python/blob/main/copy_vs_view.ipynb\" target=\"_parent\"><img src=\"https://colab.research.google.com/assets/colab-badge.svg\" alt=\"Open In Colab\"/></a>"
      ]
    },
    {
      "cell_type": "code",
      "execution_count": 2,
      "metadata": {
        "id": "UQUEonAICJKU"
      },
      "outputs": [],
      "source": [
        "import numpy as np"
      ]
    },
    {
      "cell_type": "code",
      "source": [
        "np1=np.array([1,2,3,4,5,6,7])#creating a view\n",
        "np2=np1.view()#always connect that when you make a change to the original it also changes\n",
        "print(f'original np1:{np1}')\n",
        "print(f'original np2:{np2}')"
      ],
      "metadata": {
        "colab": {
          "base_uri": "https://localhost:8080/"
        },
        "id": "gFtkyZZpCd0W",
        "outputId": "bfcf0dbc-84d9-4db9-eacf-d0358e8dc317"
      },
      "execution_count": 3,
      "outputs": [
        {
          "output_type": "stream",
          "name": "stdout",
          "text": [
            "original np1:[1 2 3 4 5 6 7]\n",
            "original np2:[1 2 3 4 5 6 7]\n"
          ]
        }
      ]
    },
    {
      "cell_type": "code",
      "source": [
        "np1[0]=10\n",
        "print(f'changed np1:{np1}')\n",
        "print(f'original np2:{np2}')"
      ],
      "metadata": {
        "colab": {
          "base_uri": "https://localhost:8080/"
        },
        "id": "x8F3v4fODK-3",
        "outputId": "041400a2-8b33-4727-d0f7-3077fe9b9c61"
      },
      "execution_count": 4,
      "outputs": [
        {
          "output_type": "stream",
          "name": "stdout",
          "text": [
            "changed np1:[10  2  3  4  5  6  7]\n",
            "original np2:[10  2  3  4  5  6  7]\n"
          ]
        }
      ]
    },
    {
      "cell_type": "code",
      "source": [
        "np3=np1.copy()#creating a copy:not connected at all,changes in the original does not affect it\n",
        "print(f'original np1:{np1}')\n",
        "print(f'original np3:{np3}')"
      ],
      "metadata": {
        "colab": {
          "base_uri": "https://localhost:8080/"
        },
        "id": "Rzf78FTEDf-u",
        "outputId": "5aa612c4-dabd-4c2a-da1a-35c6d915a9c3"
      },
      "execution_count": 5,
      "outputs": [
        {
          "output_type": "stream",
          "name": "stdout",
          "text": [
            "original np1:[10  2  3  4  5  6  7]\n",
            "original np3:[10  2  3  4  5  6  7]\n"
          ]
        }
      ]
    },
    {
      "cell_type": "code",
      "source": [
        "np3[0]=34\n",
        "print(f'changed np3:{np3}')\n",
        "print(f'original np1:{np1}')"
      ],
      "metadata": {
        "colab": {
          "base_uri": "https://localhost:8080/"
        },
        "id": "4a5M-rBlD1pf",
        "outputId": "9f5007d4-6652-4027-a12a-fee8549578d1"
      },
      "execution_count": 6,
      "outputs": [
        {
          "output_type": "stream",
          "name": "stdout",
          "text": [
            "changed np3:[34  2  3  4  5  6  7]\n",
            "original np1:[10  2  3  4  5  6  7]\n"
          ]
        }
      ]
    }
  ]
}