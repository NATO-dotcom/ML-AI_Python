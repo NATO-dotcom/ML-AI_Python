{
  "nbformat": 4,
  "nbformat_minor": 0,
  "metadata": {
    "colab": {
      "provenance": [],
      "authorship_tag": "ABX9TyP2DW1OlLxAPE7Dzqgm12tc",
      "include_colab_link": true
    },
    "kernelspec": {
      "name": "python3",
      "display_name": "Python 3"
    },
    "language_info": {
      "name": "python"
    }
  },
  "cells": [
    {
      "cell_type": "markdown",
      "metadata": {
        "id": "view-in-github",
        "colab_type": "text"
      },
      "source": [
        "<a href=\"https://colab.research.google.com/github/NATO-dotcom/ML-AI_Python/blob/main/filtering_np_arrays_using_boolean_index_lists.ipynb\" target=\"_parent\"><img src=\"https://colab.research.google.com/assets/colab-badge.svg\" alt=\"Open In Colab\"/></a>"
      ]
    },
    {
      "cell_type": "code",
      "execution_count": null,
      "metadata": {
        "id": "E9lrMMWmVVyC"
      },
      "outputs": [],
      "source": [
        "import numpy as np"
      ]
    },
    {
      "cell_type": "code",
      "source": [
        "np1=np.array([1,2,3,4,5,6,7,8,9])\n",
        "filtered=[]\n",
        "for thing in np1:\n",
        "  if thing % 2==0:\n",
        "    filtered.append(True)\n",
        "  else:\n",
        "      filtered.append(False)\n",
        "print(np1)\n",
        "print(filtered)\n",
        "print(np1[filtered])\n"
      ],
      "metadata": {
        "colab": {
          "base_uri": "https://localhost:8080/"
        },
        "id": "WfgiZ5oZWJ0_",
        "outputId": "071dbfd9-b188-4951-d4d3-161951337331"
      },
      "execution_count": null,
      "outputs": [
        {
          "output_type": "stream",
          "name": "stdout",
          "text": [
            "[1 2 3 4 5 6 7 8 9]\n",
            "[False, True, False, True, False, True, False, True, False]\n",
            "[2 4 6 8]\n"
          ]
        }
      ]
    },
    {
      "cell_type": "code",
      "source": [
        "np2=np.array([1,2,3,4,5,6,7,8,9])\n",
        "filtered=[]\n",
        "for thing in np2:\n",
        "  if thing > 5:\n",
        "    filtered.append(True)\n",
        "  else:\n",
        "      filtered.append(False)\n",
        "print(np2)\n",
        "print(filtered)\n",
        "print(np2[filtered])"
      ],
      "metadata": {
        "colab": {
          "base_uri": "https://localhost:8080/"
        },
        "id": "ekO-17QGX7Dp",
        "outputId": "0a682747-6dfe-41f3-9b4f-ba72509257e0"
      },
      "execution_count": null,
      "outputs": [
        {
          "output_type": "stream",
          "name": "stdout",
          "text": [
            "[1 2 3 4 5 6 7 8 9]\n",
            "[False, False, False, False, False, True, True, True, True]\n",
            "[6 7 8 9]\n"
          ]
        }
      ]
    },
    {
      "cell_type": "code",
      "source": [
        "#shortcut\n",
        "filtered=np1%2==0\n",
        "print(np1)\n",
        "print(filtered)\n",
        "print(np1[filtered])"
      ],
      "metadata": {
        "colab": {
          "base_uri": "https://localhost:8080/"
        },
        "id": "dwYgG-WpZCSU",
        "outputId": "bb1e0ab0-8872-483c-9382-b859e3a3fa2d"
      },
      "execution_count": null,
      "outputs": [
        {
          "output_type": "stream",
          "name": "stdout",
          "text": [
            "[1 2 3 4 5 6 7 8 9]\n",
            "[False  True False  True False  True False  True False]\n",
            "[2 4 6 8]\n"
          ]
        }
      ]
    },
    {
      "cell_type": "code",
      "source": [
        "filtered=np2>5\n",
        "print(np2)\n",
        "print(filtered)\n",
        "print(np2[filtered])"
      ],
      "metadata": {
        "colab": {
          "base_uri": "https://localhost:8080/"
        },
        "id": "ErGrO5GDZwa1",
        "outputId": "40f000dd-94ba-4e72-d626-c6d90e6acc69"
      },
      "execution_count": null,
      "outputs": [
        {
          "output_type": "stream",
          "name": "stdout",
          "text": [
            "[1 2 3 4 5 6 7 8 9]\n",
            "[False False False False False  True  True  True  True]\n",
            "[6 7 8 9]\n"
          ]
        }
      ]
    }
  ]
}